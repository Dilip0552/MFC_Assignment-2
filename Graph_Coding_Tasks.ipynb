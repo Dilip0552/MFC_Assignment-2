{
 "cells": [
  {
   "cell_type": "markdown",
   "id": "d930e55e",
   "metadata": {},
   "source": [
    "1. Write a code to find the degree of each vertex, and store it in a dictionary. Sort the keys of the dictionary by the degree stored in the values."
   ]
  },
  {
   "cell_type": "code",
   "execution_count": null,
   "id": "852a402c",
   "metadata": {},
   "outputs": [
    {
     "name": "stdout",
     "output_type": "stream",
     "text": [
      "Degree of each node:  {'S1': 3, 'S2': 2, 'S3': 2, 'S4': 1, 'S5': 2}\n",
      "Sorted Nodes by Degree:  [('S1', 3), ('S2', 2), ('S3', 2), ('S5', 2), ('S4', 1)]\n"
     ]
    }
   ],
   "source": [
    "#This function will find the degree of each node\n",
    "#A \"node\" is just a point like S1, S2 etc.\n",
    "#A \"degree\" means how many connections that node has\n",
    "\n",
    "def degree_node_dict(form, nodes):\n",
    "    #If the input graph is given as a dictionary\n",
    "    if type(form) == dict:\n",
    "        degree = {}  # an empty dictionary to store degrees\n",
    "\n",
    "        # iterating over the keys\n",
    "        for key in form.keys():\n",
    "            # degree of that node = how many nodes are connected to it\n",
    "            degree[key] = len(form[key])\n",
    "        return degree  #return the final dictionary\n",
    "\n",
    "    #If the input graph is given as an adjacency matrix\n",
    "    elif type(form) == list and type(form[0]) == list:\n",
    "        degree = {}  #an empty dictionary\n",
    "\n",
    "        # iterating through each row of the matrix\n",
    "        for j in range(len(form)):\n",
    "            count_1s = 0  #To count how many 1s are in the row\n",
    "\n",
    "            # a loop through each value in the row\n",
    "            for i in form[j]:\n",
    "                if i == 1:  # if the value is 1, that means a connection exists\n",
    "                    count_1s += 1  #Increase the count\n",
    "\n",
    "            # Set the degree of the node using the count of 1s\n",
    "            degree[nodes[j]] = count_1s\n",
    "        return degree\n",
    "\n",
    "    # If the input graph is given as a list of pairs\n",
    "    else:\n",
    "        degree = {}  # an empty dictionary \n",
    "\n",
    "        # loop through all the pairs\n",
    "        for tup in form:\n",
    "            for t in tup:  # For both nodes in the pair\n",
    "                if t in degree.keys():  #If the node is already in the dictionary\n",
    "                    degree[t] = degree[t] + 1  # increase the degree by 1\n",
    "                else:\n",
    "                    degree[t] = 1  # If it's not there, set its degree to 1\n",
    "        return degree\n",
    "\n",
    "\n",
    "#This is the graph written as a list of edges\n",
    "my_matrix = [(\"S1\", \"S2\"), (\"S1\", \"S3\"), (\"S2\", \"S4\"), (\"S1\", \"S5\"), (\"S3\", \"S5\")]\n",
    "\n",
    "#List of all the nodes\n",
    "nodes = ['S1', 'S2', 'S3', 'S4', 'S5']\n",
    "\n",
    "#calling the function to find degrees and storing it in deg_dict\n",
    "deg_dict = degree_node_dict(my_matrix, nodes)\n",
    "\n",
    "#printing the degrees of all nodes\n",
    "print(\"Degree of each node: \", deg_dict)\n",
    "\n",
    "#sorting the nodes by their degrees in descending order\n",
    "sorted_nodes = sorted(deg_dict.items(), key=lambda x: x[1], reverse=True)\n",
    "\n",
    "#printing the sorted nodes by degree\n",
    "print(\"Sorted Nodes by Degree: \", sorted_nodes)\n"
   ]
  },
  {
   "cell_type": "markdown",
   "id": "64bd6092",
   "metadata": {},
   "source": [
    "2. Write a code to inter-convert the 3 graph representations we have learnt."
   ]
  },
  {
   "cell_type": "code",
   "execution_count": null,
   "id": "c19d66db",
   "metadata": {},
   "outputs": [
    {
     "name": "stdout",
     "output_type": "stream",
     "text": [
      "EdgeList to AdjList: {'S1': ['S2', 'S3', 'S5'], 'S2': ['S1', 'S4'], 'S3': ['S1', 'S5'], 'S4': ['S2'], 'S5': ['S1', 'S3']}\n",
      "EdgeList to AdjMatrix: [[0, 1, 1, 0, 1], [1, 0, 0, 1, 0], [1, 0, 0, 0, 1], [0, 1, 0, 0, 0], [1, 0, 1, 0, 0]]\n"
     ]
    }
   ],
   "source": [
    "# This function changes an adjacency matrix into an adjacency list\n",
    "def AdjMatrixToAdjList(data, names):\n",
    "    AdjList = {}  # an empty dictionary to store the final result\n",
    "\n",
    "    for i in range(len(data)):  #going through each row of the matrix\n",
    "        lst = []  # a list to store connected nodes\n",
    "\n",
    "        for j in range(len(data[i])): \n",
    "            if data[i][j] == 1:  # if 1 means there is a connection\n",
    "                lst.append(names[j])  #Add that node name to the list\n",
    "\n",
    "        AdjList[names[i]] = lst  # Set the list to the current node name\n",
    "\n",
    "    return AdjList  # returning the final adjacency list\n",
    "\n",
    "\n",
    "# This function changes an adjacency matrix into an edge list\n",
    "def AdjMatrixToEdgeList(data, names):\n",
    "    EdgeList = []  # an empty list for edges\n",
    "\n",
    "    for i in range(len(data)):  # going row by row\n",
    "        for j in range(len(data[i])):  \n",
    "            if data[i][j] == 1:  # if there is a connection\n",
    "                if (names[j], names[i]) not in EdgeList:\n",
    "                    EdgeList.append((names[i], names[j]))  # adding the edge as a tuple\n",
    "\n",
    "    return EdgeList\n",
    "\n",
    "\n",
    "# This function converts an adjacency list into an edge list\n",
    "def AdjListToEdgeList(data, names):\n",
    "    EdgeList = []\n",
    "\n",
    "    for d in data.keys():  # Going through each node\n",
    "        for v in data[d]:  #Going through its neighbors\n",
    "            if (v, d) not in EdgeList: \n",
    "                EdgeList.append((d, v))  # add this edge\n",
    "    return EdgeList\n",
    "\n",
    "\n",
    "# This function changes an adjacency list into a matrix\n",
    "def AdjListToAdjMatrix(data, names):\n",
    "    # initially taking a matrix full of 0s\n",
    "    AdjMatrix = [[0 for i in range(len(data))] for j in range(len(data))]\n",
    "\n",
    "    for d in data.keys():  # Loop through each node\n",
    "        for v in data[d]:  # loop through their neighbors\n",
    "            # finding index of both nodes and set 1 in the matrix\n",
    "            AdjMatrix[names.index(d)][names.index(v)] = 1\n",
    "\n",
    "    return AdjMatrix\n",
    "\n",
    "\n",
    "# Converts edge list to adjacency list\n",
    "def EdgeListToAdjList(data, names):\n",
    "    AdjList = {}\n",
    "\n",
    "    for name in names:  # for each node name\n",
    "        temp_lst = []  #a list for its connections\n",
    "\n",
    "        for d in data: \n",
    "            if name in d:  # if the node is part of the edge\n",
    "                #Find the other node in the pair and add\n",
    "                if d[0] == name:\n",
    "                    temp_lst.append(d[1])\n",
    "                else:\n",
    "                    temp_lst.append(d[0])\n",
    "\n",
    "        AdjList[name] = temp_lst  # add to the dictionary\n",
    "\n",
    "    return AdjList\n",
    "\n",
    "\n",
    "# Converts edge list to adjacency matrix\n",
    "def EdgeListToAdjMatrix(data, names):\n",
    "    AdjMatrix = [] \n",
    "\n",
    "    for n1 in range(len(names)):  # For each node, row wise\n",
    "        temp_lst = []  # this is one row of the matrix\n",
    "\n",
    "        for n2 in range(len(names)):  #For each node, column wise\n",
    "            # If this edge is in the list put 1\n",
    "            if (names[n1], names[n2]) in data or (names[n2], names[n1]) in data:\n",
    "                temp_lst.append(1)\n",
    "            else:\n",
    "                temp_lst.append(0)\n",
    "\n",
    "        AdjMatrix.append(temp_lst)  #Add the row to the matrix\n",
    "\n",
    "    return AdjMatrix\n",
    "\n",
    "\n",
    "# list of all node names\n",
    "names = ['S1', 'S2', 'S3', 'S4', 'S5']\n",
    "\n",
    "# This function will check the type of input and call the respective functions to convert it into other forms\n",
    "def convert_it(form):\n",
    "    # if the input is an edge list\n",
    "    if type(form) == list and type(form[0]) == tuple:\n",
    "        print(\"EdgeList to AdjList:\", EdgeListToAdjList(form, names))\n",
    "        print(\"EdgeList to AdjMatrix:\", EdgeListToAdjMatrix(form, names))\n",
    "\n",
    "    # if the input is an adjacency matrix\n",
    "    elif type(form) == list and type(form[0]) == list:\n",
    "        print(\"AdjMatrix to AdjList:\", AdjMatrixToAdjList(form, names))\n",
    "        print(\"AdjMatrix to AdjEdgeList:\", AdjMatrixToEdgeList(form, names))\n",
    "\n",
    "    # otherwise, we assume it is an adjacency list\n",
    "    else:\n",
    "        print(\"AdjList to EdgeList:\", AdjListToEdgeList(form, names))\n",
    "        print(\"AdjList to AdjMatrix:\", AdjListToAdjMatrix(form, names))\n",
    "\n",
    "#Giving edge list as input to the function\n",
    "convert_it([(\"S1\", \"S2\"), (\"S1\", \"S3\"), (\"S2\", \"S4\"), (\"S1\", \"S5\"), (\"S3\", \"S5\")])\n"
   ]
  },
  {
   "cell_type": "markdown",
   "id": "3adb8ffa",
   "metadata": {},
   "source": [
    "3. Given a graph and two vertices, check if they are adjacent. "
   ]
  },
  {
   "cell_type": "code",
   "execution_count": 26,
   "id": "4bfbb653",
   "metadata": {},
   "outputs": [
    {
     "data": {
      "text/plain": [
       "True"
      ]
     },
     "execution_count": 26,
     "metadata": {},
     "output_type": "execute_result"
    }
   ],
   "source": [
    "#This function checks if two nodes (v1 and v2) are directly connected (i.e., adjacent) in a graph\n",
    "def adjacent_check(graph, v1, v2, names: list): \n",
    "\n",
    "    # First, check if the graph is in Edge List form\n",
    "    if type(graph) == list and type(graph[0]) == tuple:\n",
    "        # if either (v1, v2) or (v2, v1) is present, then they are connected\n",
    "        if (v1, v2) in graph or (v2, v1) in graph:\n",
    "            return True  # adjacent\n",
    "        else:\n",
    "            return False  # not adjacent\n",
    "\n",
    "    # Now check if the graph is an Adjacency Matrix\n",
    "    elif type(graph) == list and type(graph[0]) == list:\n",
    "        # getting the index number of both nodes\n",
    "        i = names.index(v1)\n",
    "        j = names.index(v2)\n",
    "\n",
    "        # now check if there is a 1 in the matrix at that position\n",
    "        if graph[i][j] == 1:\n",
    "            return True\n",
    "        else:\n",
    "            return False\n",
    "\n",
    "    #if not Edge List or Matrix, it must be Adjacency List\n",
    "    else:\n",
    "        #get the list of nodes connected to v1\n",
    "        lst = graph[v1]\n",
    "\n",
    "        # now check if v2 is in that list\n",
    "        if v2 in lst:\n",
    "            return True\n",
    "        else:\n",
    "            return False\n",
    "\n",
    "\n",
    "names = ['S1', 'S2', 'S3', 'S4', 'S5']\n",
    "\n",
    "# we are giving an adjacency list as input and checking if S2 and S4 are connected\n",
    "adjacent_check({'S1': ['S2', 'S3', 'S5'], 'S2': ['S1', 'S4'], 'S3': ['S1', 'S5'], 'S4': ['S2'], 'S5': ['S1', 'S3']}, \"S2\", \"S4\", names)\n"
   ]
  },
  {
   "cell_type": "markdown",
   "id": "544b9cb7",
   "metadata": {},
   "source": [
    "4. Check if a graph is complete."
   ]
  },
  {
   "cell_type": "code",
   "execution_count": 27,
   "id": "8cb7bf14",
   "metadata": {},
   "outputs": [
    {
     "data": {
      "text/plain": [
       "False"
      ]
     },
     "execution_count": 27,
     "metadata": {},
     "output_type": "execute_result"
    }
   ],
   "source": [
    "# This function checks if the graph is a Complete Graph.\n",
    "def complete_graph_check(graph, names: list):\n",
    "\n",
    "    #First case: if graph is in Edge List format like\n",
    "    if type(graph) == list and type(graph[0]) == tuple:\n",
    "        # go through all pairs of nodes\n",
    "        for i in range(len(names)):\n",
    "            for j in range(i, len(names)):\n",
    "                # if a pair is missing from the edge list, it's not a complete graph\n",
    "                if (names[i], names[j]) not in graph and (names[j], names[i]) not in graph:\n",
    "                    return False\n",
    "        return True \n",
    "\n",
    "    #Second case: if graph is an Adjacency Matrix\n",
    "    elif type(graph) == list and type(graph[0]) == list:\n",
    "        for i in range(len(names)):\n",
    "            for j in range(len(names)):\n",
    "                if i != j:  # skip checking node with itself\n",
    "                    # if any pair is not connected in both ways, then not complete\n",
    "                    if graph[i][j] != 1 or graph[j][i] != 1:\n",
    "                        return False\n",
    "        return True \n",
    "\n",
    "    #Third case: if graph is an Adjacency List\n",
    "    else:\n",
    "        for key in graph.keys():\n",
    "            # copy all names,then remove the current node itself\n",
    "            temp_names = names.copy()\n",
    "            temp_names.remove(key)\n",
    "\n",
    "            # if the node does not connect to all other nodes, then it is incomplete\n",
    "            if sorted(graph[key]) != sorted(temp_names):\n",
    "                return False\n",
    "        return True  \n",
    "\n",
    "names = ['S1', 'S2', 'S3', 'S4', 'S5']\n",
    "complete_graph_check({\n",
    "    'S1': ['S2', 'S3', 'S4', 'S5'],\n",
    "    'S2': ['S1', 'S3', 'S4', 'S5'],\n",
    "    'S3': ['S1', 'S2', 'S4', 'S5'],\n",
    "    'S4': ['S1', 'S2', 'S3', 'S5'],\n",
    "    'S5': ['S1', 'S2', 'S3']  # here, missing 'S4', so this will return False\n",
    "}, names)\n"
   ]
  },
  {
   "cell_type": "markdown",
   "id": "3386ca0f",
   "metadata": {},
   "source": [
    "5. Check if a graph is connected."
   ]
  },
  {
   "cell_type": "code",
   "execution_count": null,
   "id": "c1d7a2be",
   "metadata": {},
   "outputs": [
    {
     "name": "stdout",
     "output_type": "stream",
     "text": [
      "Graph is connected\n"
     ]
    }
   ],
   "source": [
    "# This function checks if the graph is Connected or not.\n",
    "def connected_graph_check(graph, names: list):\n",
    "\n",
    "    #First, check if graph is in Edge List form\n",
    "    if type(graph) == list and type(graph[0]) == tuple:\n",
    "        # if yes, convert it into Adjacency List\n",
    "        graph = EdgeListToAdjList(graph, names)\n",
    "\n",
    "    #if graph is in Adjacency Matrix format\n",
    "    elif type(graph) == list and type(graph[0]) == list:\n",
    "        # if yes, convert it into Adjacency List\n",
    "        graph = AdjMatrixToAdjList(graph, names)\n",
    "\n",
    "    # initially taking first node in the list (it is random you can choose any other)\n",
    "    visited = [names[0]]  \n",
    "    queue = [names[0]]    \n",
    "    target = names[0]     # this is the node that we are currently checking\n",
    "\n",
    "    while len(queue) != 0:\n",
    "        # now go through all the neighbours of tho+is current node\n",
    "        for el in graph[target]:\n",
    "            # if that neighbour is not visited, we add it\n",
    "            if el not in visited:\n",
    "                visited.append(el)\n",
    "                queue.append(el)\n",
    "        queue.pop(0)  # remove the current node from queue\n",
    "        if len(queue) != 0:\n",
    "            target = queue[0]  # move to the next node in the queue\n",
    "\n",
    "    # At the end, check if we visited all nodes\n",
    "    if len(visited) == len(names):\n",
    "        return \"Graph is connected\"\n",
    "    else:\n",
    "        return \"Graph is not connected\"\n",
    "\n",
    "\n",
    "names = ['S1', 'S2', 'S3', 'S4', 'S5']\n",
    "print(connected_graph_check({'S1': ['S2', 'S5'],'S2': ['S1', 'S4'],'S3': ['S1', 'S5'],'S4': ['S2'],'S5': ['S1', 'S3']}, names))\n"
   ]
  },
  {
   "cell_type": "markdown",
   "id": "250d2c36",
   "metadata": {},
   "source": [
    "6. Given a graph and a list of vertices, check if it forms a walk, or a trail or a path or none of these."
   ]
  },
  {
   "cell_type": "code",
   "execution_count": 30,
   "id": "2a6671a1",
   "metadata": {},
   "outputs": [
    {
     "name": "stdout",
     "output_type": "stream",
     "text": [
      "Walk\n"
     ]
    }
   ],
   "source": [
    "# This function checks if any node is repeated in the given path\n",
    "def NodeRepeats(lst_vertices):\n",
    "    return len(lst_vertices) != len(set(lst_vertices))\n",
    "\n",
    "#This function checks if any edge is repeated\n",
    "def EdgeRepeats(lst_vertices):\n",
    "    temp_lst = []  #store the edges we have already seen\n",
    "    for i in range(len(lst_vertices) - 1):\n",
    "        edge = (lst_vertices[i], lst_vertices[i+1])  # edge from current node to next\n",
    "        reverse_edge = (lst_vertices[i+1], lst_vertices[i])  # edge in opposite direction\n",
    "        # if either the edge or its reverse is already in the list, it is a repeat\n",
    "        if edge in temp_lst or reverse_edge in temp_lst:\n",
    "            return True\n",
    "        temp_lst.append(edge)  # add this edge to the list\n",
    "    return False \n",
    "\n",
    "#This function checks what kind of path the user gave\n",
    "def check_form(form, lst_vertices, names):\n",
    "\n",
    "    #First we convert any type of graph to adjacency list for easy checking\n",
    "    if type(form) == list and type(form[0]) == tuple:\n",
    "        graph = EdgeListToAdjList(form, names)  # convert from edge list\n",
    "    elif type(form) == list and type(form[0]) == list:\n",
    "        graph = AdjMatrixToAdjList(form, names)  # convert from adjacency matrix\n",
    "    else:\n",
    "        graph = form  #if already in adjacency list, use it as it is\n",
    "\n",
    "    # now we check if every next node in the path is actually connected\n",
    "    prev_node = lst_vertices[0]  # starting from first node\n",
    "    for i in range(1, len(lst_vertices)):\n",
    "        #if current node is not connected to previous, then the path is invalid\n",
    "        if lst_vertices[i] not in graph.get(prev_node, []):\n",
    "            return None  # returning None means the path is broken or wrong\n",
    "        prev_node = lst_vertices[i]  #move to next node\n",
    "\n",
    "    # now check if any node is repeated\n",
    "    node_repeat = NodeRepeats(lst_vertices)\n",
    "    # check if any edge is repeated\n",
    "    edge_repeat = EdgeRepeats(lst_vertices)\n",
    "\n",
    "    if not node_repeat and not edge_repeat:\n",
    "        return \"Path\"  # No repeat of node or edge → proper Path\n",
    "    elif not edge_repeat:\n",
    "        return \"Trail\"  # Nodes can repeat but not edges\n",
    "    else:\n",
    "        return \"Walk\"  # Anything goes: edges or nodes can repeat\n",
    "\n",
    "names = ['S1','S2', 'S3','S4','S5']\n",
    "path = [\"S1\", \"S2\", \"S4\", \"S2\", \"S1\"]  # take any random path to check\n",
    "\n",
    "print(check_form({'S1': ['S2', 'S5'],'S2': ['S1', 'S4'],'S3': ['S1', 'S5'],'S4': ['S2'],'S5': ['S1', 'S3']}, path, names))\n"
   ]
  },
  {
   "cell_type": "markdown",
   "id": "884fb70b",
   "metadata": {},
   "source": [
    "7. Check if a given graph is a tree."
   ]
  },
  {
   "cell_type": "code",
   "execution_count": 35,
   "id": "c547889f",
   "metadata": {},
   "outputs": [
    {
     "name": "stdout",
     "output_type": "stream",
     "text": [
      "True\n"
     ]
    }
   ],
   "source": [
    "# This function checks if the graph is Connected or not.\n",
    "def connected_graph_check(graph, names: list):\n",
    "\n",
    "    #First, check if graph is in Edge List form\n",
    "    if type(graph) == list and type(graph[0]) == tuple:\n",
    "        # if yes, convert it into Adjacency List\n",
    "        graph = EdgeListToAdjList(graph, names)\n",
    "\n",
    "    #if graph is in Adjacency Matrix format\n",
    "    elif type(graph) == list and type(graph[0]) == list:\n",
    "        # if yes, convert it into Adjacency List\n",
    "        graph = AdjMatrixToAdjList(graph, names)\n",
    "\n",
    "    # initially taking first node in the list (it is random you can choose any other)\n",
    "    visited = [names[0]]  \n",
    "    queue = [names[0]]    \n",
    "    target = names[0]     # this is the node that we are currently checking\n",
    "\n",
    "    while len(queue) != 0:\n",
    "        # now go through all the neighbours of tho+is current node\n",
    "        for el in graph[target]:\n",
    "            # if that neighbour is not visited, we add it\n",
    "            if el not in visited:\n",
    "                visited.append(el)\n",
    "                queue.append(el)\n",
    "        queue.pop(0)  # remove the current node from queue\n",
    "        if len(queue) != 0:\n",
    "            target = queue[0]  # move to the next node in the queue\n",
    "\n",
    "    # At the end, check if we visited all nodes\n",
    "    if len(visited) == len(names):\n",
    "        return \"Graph is Connected\"\n",
    "    else:\n",
    "        return \"Graph is not Connected\"\n",
    "\n",
    "# This function checks if a given graph is a tree\n",
    "def is_tree(graph, names):\n",
    "    num_vertices = len(names)  # total number of nodes\n",
    "    edge_count = 0  # to count the number of edges\n",
    "    counted = set()  # to make sure we do not count the same edge twice\n",
    "\n",
    "    # go through each node and its connections\n",
    "    for node in graph:\n",
    "        for neighbor in graph[node]:\n",
    "            # only count an edge if its reverse is counted yet\n",
    "            if (neighbor, node) not in counted:\n",
    "                counted.add((node, neighbor))  #mark this edge as counted\n",
    "                edge_count += 1  # increase the edge count\n",
    "\n",
    "    #In a tree, the number of edges is always one less than the number of nodes\n",
    "    if edge_count != num_vertices - 1:\n",
    "        return False  \n",
    "\n",
    "    # now check if the graph is fully connected\n",
    "    if connected_graph_check(graph, names) != \"Graph is Connected\":\n",
    "        return False \n",
    "\n",
    "    return True \n",
    "\n",
    "\n",
    "names = ['S1', 'S2', 'S3']\n",
    "print(is_tree({'S1': ['S2', 'S3'],'S2': ['S1'],'S3': ['S1']}, names))\n"
   ]
  },
  {
   "cell_type": "markdown",
   "id": "9af547cb",
   "metadata": {},
   "source": [
    "8. Given a connected cyclic graph, find its spanning tree."
   ]
  },
  {
   "cell_type": "code",
   "execution_count": null,
   "id": "9a81b17b",
   "metadata": {},
   "outputs": [
    {
     "name": "stdout",
     "output_type": "stream",
     "text": [
      "V'' = ['S1', 'S2', 'S5', 'S4', 'S3']\n",
      "E'' = [('S1', 'S2'), ('S1', 'S5'), ('S2', 'S4'), ('S5', 'S3')]\n",
      "{'S1': ['S2', 'S5'], 'S2': ['S1', 'S4'], 'S3': ['S5'], 'S4': ['S2'], 'S5': ['S1', 'S3']}\n"
     ]
    }
   ],
   "source": [
    "#This function finds and prints the spanning tree of a graph\n",
    "def getSpanningTree(graph, names):\n",
    "\n",
    "    # if the graph is in edge list format, convert it to adjacency list\n",
    "    if type(graph) == list and type(graph[0]) == tuple:\n",
    "        graph = EdgeListToAdjList(graph, names)\n",
    "\n",
    "    # if the graph is an adjacency matrix, convert it to adjacency list\n",
    "    elif type(graph) == list and type(graph[0]) == list:\n",
    "        graph = AdjMatrixToAdjList(graph, names)\n",
    "\n",
    "    # initially taking first node in the list (it is random you can choose any other)\n",
    "    visited = [names[0]]  \n",
    "    queue = [names[0]]    \n",
    "    target = names[0]     # current node that we are checking\n",
    "    edges = []            # this will store the edges that form the spanning tree\n",
    "\n",
    "    # keep running while there are still nodes in the queue\n",
    "    while len(queue) != 0:\n",
    "        # go through all the neighbors of the current node\n",
    "        for el in graph[target]:\n",
    "            # if neighbor is not visited yet\n",
    "            if el not in visited:\n",
    "                visited.append(el)           # add it to visited\n",
    "                queue.append(el)            # add it to the queue\n",
    "                edges.append((target, el))  # add this edge to our list\n",
    "\n",
    "        queue.pop(0)         # now remove the current node from the queue\n",
    "        if len(queue) != 0:\n",
    "            target = queue[0]  # now change the target\n",
    "\n",
    "    # show final visited nodes\n",
    "    print(\"V'' =\", visited)  # vertices of the spanning tree\n",
    "\n",
    "    # show final edges\n",
    "    print(\"E'' =\", edges)    # edges of the spanning tree\n",
    "\n",
    "    # show the final tree in adjacency list format\n",
    "    print(EdgeListToAdjList(edges, names))\n",
    "\n",
    "names = ['S1', 'S2', 'S3', 'S4', 'S5']\n",
    "getSpanningTree({'S1': ['S2', 'S5'],'S2': ['S1', 'S4'],'S3': ['S1', 'S5'],'S4': ['S2'],'S5': ['S1', 'S3']},names)\n"
   ]
  },
  {
   "cell_type": "markdown",
   "id": "9d8204e6",
   "metadata": {},
   "source": [
    "9. Given a tree, find the number of leaf nodes."
   ]
  },
  {
   "cell_type": "code",
   "execution_count": 37,
   "id": "25771754",
   "metadata": {},
   "outputs": [
    {
     "name": "stdout",
     "output_type": "stream",
     "text": [
      "Leaf nodes count: 2\n"
     ]
    }
   ],
   "source": [
    "#This function counts the number of leaf nodes in a tree graph\n",
    "def count_leaf_nodes(tree):\n",
    "    leaf_count = 0  # store the count of leaf nodes\n",
    "\n",
    "    # go through every node in the tree\n",
    "    for node in tree:\n",
    "        # if a node has only one connection i.e. (degree 1), it is a leaf\n",
    "        if len(tree[node]) == 1:\n",
    "            leaf_count += 1\n",
    "\n",
    "    # if there is only one node in the whole tree\n",
    "    if len(tree) == 1:\n",
    "        return 1  # it is a leaf\n",
    "\n",
    "    # now return the final count of leaf nodes\n",
    "    return leaf_count\n",
    "\n",
    "\n",
    "print(\"Leaf nodes count:\", count_leaf_nodes({'S1': ['S2', 'S5'],'S2': ['S1', 'S4'],'S3': ['S5'],'S4': ['S2'],'S5': ['S1', 'S3']}))\n"
   ]
  },
  {
   "cell_type": "markdown",
   "id": "12bb511a",
   "metadata": {},
   "source": [
    "10. Given a tree, check if it's a binary tree"
   ]
  },
  {
   "cell_type": "code",
   "execution_count": 38,
   "id": "4e4957ed",
   "metadata": {},
   "outputs": [
    {
     "name": "stdout",
     "output_type": "stream",
     "text": [
      "True\n"
     ]
    }
   ],
   "source": [
    "#This function checks whether a given tree follows the structure of a binary tree\n",
    "def is_binary_tree(tree):\n",
    "    # first, loop through each node in the tree\n",
    "    for node in tree:\n",
    "        degree = len(tree[node])  # count how many connections this node has\n",
    "        \n",
    "        # if the node is connected to more than 3 others, it breaks binary tree rule\n",
    "        if degree > 3:\n",
    "            return False\n",
    "\n",
    "    # else it follows binary tree structure\n",
    "    return True\n",
    "\n",
    "print(is_binary_tree({'A': ['B', 'C'],'B': ['A', 'D', 'E'],'C': ['A'],'D': ['B'],'E': ['B']}))\n"
   ]
  },
  {
   "cell_type": "markdown",
   "id": "25688f8b",
   "metadata": {},
   "source": [
    "11. Given a tree and a node, find its height."
   ]
  },
  {
   "cell_type": "code",
   "execution_count": 39,
   "id": "62500f49",
   "metadata": {},
   "outputs": [
    {
     "data": {
      "text/plain": [
       "4"
      ]
     },
     "execution_count": 39,
     "metadata": {},
     "output_type": "execute_result"
    }
   ],
   "source": [
    "#This function calculates the height of the tree\n",
    "def find_height(tree, node):\n",
    "    # if the node has no children, its height is 0\n",
    "    if tree[node] == []:\n",
    "        return 0\n",
    "\n",
    "    max_val = 0  # this will store the maximum height of the tree\n",
    "    # for each child of the current node, find its height\n",
    "    for el in tree[node]:\n",
    "        height = find_height(tree, el)  # recursive call to find the height of the child\n",
    "        if height > max_val:  # if this child's height is greater, update max_val\n",
    "            max_val = height\n",
    "\n",
    "    # return the height of the current node (1 for the current node itself, + max height of its children)\n",
    "    return 1 + max_val\n",
    "\n",
    "\n",
    "find_height({'S1': ['S2', 'S3','S4'], 'S2': ['S5'], 'S3': ['S6', 'S7'], 'S4': ['S8','S9','S10'],'S5':[], 'S6': ['S11', 'S12'],'S7':[],'S8':[],'S9':['S13','S14'],'S10':[],'S11':[],'S12':['S15','S16'],'S13':[],'S14':['S17','S18','S19'],'S15':[],'S16':[],'S17':[],'S18':[],'S19':[]},\"S1\")\n"
   ]
  },
  {
   "cell_type": "markdown",
   "id": "33e5e841",
   "metadata": {},
   "source": [
    "12. Given a tree and a node, find its depth."
   ]
  },
  {
   "cell_type": "code",
   "execution_count": 40,
   "id": "d839981d",
   "metadata": {},
   "outputs": [
    {
     "name": "stdout",
     "output_type": "stream",
     "text": [
      "2\n"
     ]
    }
   ],
   "source": [
    "#This function calculates the depth of a given node in a tree\n",
    "def find_depth(tree, node):\n",
    "    # if the node is the root node, its depth is 0\n",
    "    if node == list(tree.keys())[0]:\n",
    "        return 0\n",
    "    \n",
    "    # now loop through each parent node in the tree\n",
    "    for parent in tree:\n",
    "        # if the current node is a child of the parent node\n",
    "        if node in tree[parent]:\n",
    "            # recursively call to find the depth of the parent node\n",
    "            return 1 + find_depth(tree, parent)\n",
    "    \n",
    "    # incase the node is not found, return -1 \n",
    "    return -1 \n",
    "\n",
    "print(find_depth({'S1': ['S2', 'S3','S4'], 'S2': ['S5'], 'S3': ['S6', 'S7'], 'S4': ['S8','S9','S10'],'S5':[], 'S6': ['S11', 'S12'],'S7':[],'S8':[],'S9':['S13','S14'],'S10':[],'S11':[],'S12':['S15','S16'],'S13':[],'S14':['S17','S18','S19'],'S15':[],'S16':[],'S17':[],'S18':[],'S19':[]},\"S6\"))"
   ]
  }
 ],
 "metadata": {
  "kernelspec": {
   "display_name": ".venv",
   "language": "python",
   "name": "python3"
  },
  "language_info": {
   "codemirror_mode": {
    "name": "ipython",
    "version": 3
   },
   "file_extension": ".py",
   "mimetype": "text/x-python",
   "name": "python",
   "nbconvert_exporter": "python",
   "pygments_lexer": "ipython3",
   "version": "3.13.1"
  }
 },
 "nbformat": 4,
 "nbformat_minor": 5
}
